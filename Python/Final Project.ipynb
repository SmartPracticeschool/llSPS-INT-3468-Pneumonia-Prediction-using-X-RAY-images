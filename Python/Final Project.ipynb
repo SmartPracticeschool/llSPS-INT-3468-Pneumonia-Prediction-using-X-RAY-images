{
 "cells": [
  {
   "cell_type": "code",
   "execution_count": 1,
   "metadata": {},
   "outputs": [],
   "source": [
    "import keras\n",
    "from keras.preprocessing.image import ImageDataGenerator\n",
    "\n",
    "from keras.models import Sequential\n",
    "from keras.layers import Dense\n",
    "from keras.layers import Conv2D\n",
    "from keras.layers import MaxPooling2D\n",
    "from keras.layers import Flatten"
   ]
  },
  {
   "cell_type": "code",
   "execution_count": 2,
   "metadata": {},
   "outputs": [],
   "source": [
    "train_datagen = ImageDataGenerator(rescale=1./255,shear_range=0.2,zoom_range=0.2,horizontal_flip=True)\n",
    "test_datagen = ImageDataGenerator(rescale=1./255)"
   ]
  },
  {
   "cell_type": "code",
   "execution_count": 3,
   "metadata": {},
   "outputs": [
    {
     "name": "stdout",
     "output_type": "stream",
     "text": [
      "Found 5216 images belonging to 2 classes.\n",
      "Found 624 images belonging to 2 classes.\n"
     ]
    }
   ],
   "source": [
    "x_train = train_datagen.flow_from_directory(r'../Files/Dataset/train',target_size=(64,64),batch_size=16,class_mode=\"binary\")\n",
    "x_test = test_datagen.flow_from_directory(r'../Files/Dataset/test',target_size=(64,64),batch_size=16,class_mode=\"binary\")"
   ]
  },
  {
   "cell_type": "code",
   "execution_count": 4,
   "metadata": {},
   "outputs": [
    {
     "data": {
      "text/plain": [
       "{'NORMAL': 0, 'PNEUMONIA': 1}"
      ]
     },
     "execution_count": 4,
     "metadata": {},
     "output_type": "execute_result"
    }
   ],
   "source": [
    "x_test.class_indices"
   ]
  },
  {
   "cell_type": "code",
   "execution_count": 5,
   "metadata": {},
   "outputs": [],
   "source": [
    "#Initializing the Model\n",
    "model = Sequential() "
   ]
  },
  {
   "cell_type": "code",
   "execution_count": 6,
   "metadata": {},
   "outputs": [],
   "source": [
    "model.add(Conv2D(128,3,3,input_shape=(64,64,3),activation='relu'))\n",
    "model.add(Conv2D(64,3,3,input_shape=(64,64,3),activation='relu'))"
   ]
  },
  {
   "cell_type": "code",
   "execution_count": 7,
   "metadata": {},
   "outputs": [],
   "source": [
    "model.add(Conv2D(32,(3,3),input_shape=(64,64,3),activation='relu'))"
   ]
  },
  {
   "cell_type": "code",
   "execution_count": 8,
   "metadata": {},
   "outputs": [],
   "source": [
    "model.add(MaxPooling2D(pool_size=(2,2)))"
   ]
  },
  {
   "cell_type": "code",
   "execution_count": 9,
   "metadata": {},
   "outputs": [],
   "source": [
    "model.add(Flatten())"
   ]
  },
  {
   "cell_type": "code",
   "execution_count": 10,
   "metadata": {},
   "outputs": [],
   "source": [
    "model.add(Dense(units = 512, activation = 'relu', kernel_initializer = 'random_uniform'))\n",
    "model.add(Dense(units = 256, activation = 'relu', kernel_initializer = 'random_uniform'))\n",
    "model.add(Dense(units = 128, activation = 'relu', kernel_initializer = 'random_uniform'))\n",
    "model.add(Dense(units = 64, activation = 'relu', kernel_initializer = 'random_uniform'))"
   ]
  },
  {
   "cell_type": "code",
   "execution_count": 11,
   "metadata": {},
   "outputs": [],
   "source": [
    "model.add(Dense(units = 1, activation = 'sigmoid', kernel_initializer = 'random_uniform'))"
   ]
  },
  {
   "cell_type": "code",
   "execution_count": 12,
   "metadata": {},
   "outputs": [],
   "source": [
    "model.compile(optimizer='adam',loss='binary_crossentropy',metrics=['accuracy'])"
   ]
  },
  {
   "cell_type": "code",
   "execution_count": 13,
   "metadata": {},
   "outputs": [
    {
     "name": "stdout",
     "output_type": "stream",
     "text": [
      "Epoch 1/100\n",
      "326/326 [==============================] - 88s 268ms/step - loss: 0.5048 - accuracy: 0.7686 - val_loss: 0.5377 - val_accuracy: 0.7292\n",
      "Epoch 2/100\n",
      "326/326 [==============================] - 85s 259ms/step - loss: 0.2955 - accuracy: 0.8723 - val_loss: 0.4089 - val_accuracy: 0.8253\n",
      "Epoch 3/100\n",
      "326/326 [==============================] - 85s 262ms/step - loss: 0.2556 - accuracy: 0.8934 - val_loss: 0.3643 - val_accuracy: 0.8253\n",
      "Epoch 4/100\n",
      "326/326 [==============================] - 86s 264ms/step - loss: 0.2311 - accuracy: 0.9026 - val_loss: 0.3841 - val_accuracy: 0.8510\n",
      "Epoch 5/100\n",
      "326/326 [==============================] - 85s 261ms/step - loss: 0.2112 - accuracy: 0.9151 - val_loss: 0.3316 - val_accuracy: 0.8606\n",
      "Epoch 6/100\n",
      "326/326 [==============================] - 86s 263ms/step - loss: 0.2053 - accuracy: 0.9156 - val_loss: 0.4167 - val_accuracy: 0.8269\n",
      "Epoch 7/100\n",
      "326/326 [==============================] - 86s 265ms/step - loss: 0.2012 - accuracy: 0.9160 - val_loss: 0.3543 - val_accuracy: 0.8429\n",
      "Epoch 8/100\n",
      "326/326 [==============================] - 86s 264ms/step - loss: 0.1910 - accuracy: 0.9250 - val_loss: 0.3209 - val_accuracy: 0.8670\n",
      "Epoch 9/100\n",
      "326/326 [==============================] - 87s 267ms/step - loss: 0.1808 - accuracy: 0.9285 - val_loss: 0.4628 - val_accuracy: 0.8526\n",
      "Epoch 10/100\n",
      "326/326 [==============================] - 86s 263ms/step - loss: 0.1822 - accuracy: 0.9256 - val_loss: 0.3009 - val_accuracy: 0.8782\n",
      "Epoch 11/100\n",
      "326/326 [==============================] - 85s 262ms/step - loss: 0.1662 - accuracy: 0.9377 - val_loss: 0.3974 - val_accuracy: 0.8622\n",
      "Epoch 12/100\n",
      "326/326 [==============================] - 79s 244ms/step - loss: 0.1633 - accuracy: 0.9340 - val_loss: 0.4604 - val_accuracy: 0.8654\n",
      "Epoch 13/100\n",
      "326/326 [==============================] - 79s 243ms/step - loss: 0.1579 - accuracy: 0.9367 - val_loss: 0.2997 - val_accuracy: 0.8846\n",
      "Epoch 14/100\n",
      "326/326 [==============================] - 79s 242ms/step - loss: 0.1530 - accuracy: 0.9404 - val_loss: 0.4209 - val_accuracy: 0.8542\n",
      "Epoch 15/100\n",
      "326/326 [==============================] - 82s 252ms/step - loss: 0.1550 - accuracy: 0.9377 - val_loss: 0.3383 - val_accuracy: 0.8846\n",
      "Epoch 16/100\n",
      "326/326 [==============================] - 80s 246ms/step - loss: 0.1489 - accuracy: 0.9444 - val_loss: 0.3644 - val_accuracy: 0.8654\n",
      "Epoch 17/100\n",
      "326/326 [==============================] - 87s 268ms/step - loss: 0.1501 - accuracy: 0.9415 - val_loss: 0.2692 - val_accuracy: 0.8878\n",
      "Epoch 18/100\n",
      "326/326 [==============================] - 85s 261ms/step - loss: 0.1494 - accuracy: 0.9423 - val_loss: 0.2695 - val_accuracy: 0.8910\n",
      "Epoch 19/100\n",
      "326/326 [==============================] - 79s 243ms/step - loss: 0.1537 - accuracy: 0.9387 - val_loss: 0.3408 - val_accuracy: 0.8878\n",
      "Epoch 20/100\n",
      "326/326 [==============================] - 80s 245ms/step - loss: 0.1403 - accuracy: 0.9454 - val_loss: 0.3100 - val_accuracy: 0.8878\n",
      "Epoch 21/100\n",
      "326/326 [==============================] - 80s 245ms/step - loss: 0.1351 - accuracy: 0.9459 - val_loss: 0.4964 - val_accuracy: 0.8702\n",
      "Epoch 22/100\n",
      "326/326 [==============================] - 80s 246ms/step - loss: 0.1410 - accuracy: 0.9452 - val_loss: 0.4544 - val_accuracy: 0.8478\n",
      "Epoch 23/100\n",
      "326/326 [==============================] - 77s 237ms/step - loss: 0.1373 - accuracy: 0.9471 - val_loss: 0.2458 - val_accuracy: 0.8990\n",
      "Epoch 24/100\n",
      "326/326 [==============================] - 75s 231ms/step - loss: 0.1439 - accuracy: 0.9413 - val_loss: 0.3837 - val_accuracy: 0.8702\n",
      "Epoch 25/100\n",
      "326/326 [==============================] - 76s 233ms/step - loss: 0.1319 - accuracy: 0.9480 - val_loss: 0.5222 - val_accuracy: 0.8510\n",
      "Epoch 26/100\n",
      "326/326 [==============================] - 76s 234ms/step - loss: 0.1348 - accuracy: 0.9454 - val_loss: 0.2603 - val_accuracy: 0.8958\n",
      "Epoch 27/100\n",
      "326/326 [==============================] - 75s 231ms/step - loss: 0.1364 - accuracy: 0.9450 - val_loss: 0.3056 - val_accuracy: 0.8942\n",
      "Epoch 28/100\n",
      "326/326 [==============================] - 75s 231ms/step - loss: 0.1338 - accuracy: 0.9500 - val_loss: 0.2973 - val_accuracy: 0.8782\n",
      "Epoch 29/100\n",
      "326/326 [==============================] - 76s 232ms/step - loss: 0.1243 - accuracy: 0.9526 - val_loss: 0.2850 - val_accuracy: 0.8830\n",
      "Epoch 30/100\n",
      "326/326 [==============================] - 76s 232ms/step - loss: 0.1296 - accuracy: 0.9523 - val_loss: 0.3525 - val_accuracy: 0.8750\n",
      "Epoch 31/100\n",
      "326/326 [==============================] - 75s 231ms/step - loss: 0.1266 - accuracy: 0.9484 - val_loss: 0.3136 - val_accuracy: 0.8878\n",
      "Epoch 32/100\n",
      "326/326 [==============================] - 76s 232ms/step - loss: 0.1267 - accuracy: 0.9507 - val_loss: 0.3594 - val_accuracy: 0.8638\n",
      "Epoch 33/100\n",
      "326/326 [==============================] - 76s 233ms/step - loss: 0.1259 - accuracy: 0.9502 - val_loss: 0.4738 - val_accuracy: 0.8750\n",
      "Epoch 34/100\n",
      "326/326 [==============================] - 76s 232ms/step - loss: 0.1288 - accuracy: 0.9519 - val_loss: 0.3593 - val_accuracy: 0.8558\n",
      "Epoch 35/100\n",
      "326/326 [==============================] - 76s 232ms/step - loss: 0.1226 - accuracy: 0.9503 - val_loss: 0.3273 - val_accuracy: 0.8718\n",
      "Epoch 36/100\n",
      "326/326 [==============================] - 76s 233ms/step - loss: 0.1265 - accuracy: 0.9502 - val_loss: 0.3465 - val_accuracy: 0.8654\n",
      "Epoch 37/100\n",
      "326/326 [==============================] - 76s 233ms/step - loss: 0.1167 - accuracy: 0.9548 - val_loss: 0.4451 - val_accuracy: 0.8622\n",
      "Epoch 38/100\n",
      "326/326 [==============================] - 76s 232ms/step - loss: 0.1202 - accuracy: 0.9553 - val_loss: 0.2766 - val_accuracy: 0.8814\n",
      "Epoch 39/100\n",
      "326/326 [==============================] - 76s 234ms/step - loss: 0.1239 - accuracy: 0.9496 - val_loss: 0.2809 - val_accuracy: 0.8814\n",
      "Epoch 40/100\n",
      "326/326 [==============================] - 76s 232ms/step - loss: 0.1200 - accuracy: 0.9503 - val_loss: 0.2824 - val_accuracy: 0.8974\n",
      "Epoch 41/100\n",
      "326/326 [==============================] - 76s 233ms/step - loss: 0.1179 - accuracy: 0.9542 - val_loss: 0.3326 - val_accuracy: 0.8702\n",
      "Epoch 42/100\n",
      "326/326 [==============================] - 76s 233ms/step - loss: 0.1164 - accuracy: 0.9561 - val_loss: 0.2169 - val_accuracy: 0.9006\n",
      "Epoch 43/100\n",
      "326/326 [==============================] - 75s 231ms/step - loss: 0.1191 - accuracy: 0.9517 - val_loss: 0.3553 - val_accuracy: 0.8686\n",
      "Epoch 44/100\n",
      "326/326 [==============================] - 76s 232ms/step - loss: 0.1233 - accuracy: 0.9494 - val_loss: 0.2905 - val_accuracy: 0.8830\n",
      "Epoch 45/100\n",
      "326/326 [==============================] - 76s 232ms/step - loss: 0.1154 - accuracy: 0.9567 - val_loss: 0.3184 - val_accuracy: 0.8830\n",
      "Epoch 46/100\n",
      "326/326 [==============================] - 76s 233ms/step - loss: 0.1166 - accuracy: 0.9538 - val_loss: 0.3877 - val_accuracy: 0.8894\n",
      "Epoch 47/100\n",
      "326/326 [==============================] - 76s 232ms/step - loss: 0.1121 - accuracy: 0.9576 - val_loss: 0.3235 - val_accuracy: 0.8798\n",
      "Epoch 48/100\n",
      "326/326 [==============================] - 76s 232ms/step - loss: 0.1189 - accuracy: 0.9559 - val_loss: 0.2577 - val_accuracy: 0.9006\n",
      "Epoch 49/100\n",
      "326/326 [==============================] - 76s 234ms/step - loss: 0.1098 - accuracy: 0.9553 - val_loss: 0.3188 - val_accuracy: 0.8878\n",
      "Epoch 50/100\n",
      "326/326 [==============================] - 76s 233ms/step - loss: 0.1161 - accuracy: 0.9553 - val_loss: 0.2863 - val_accuracy: 0.9006\n",
      "Epoch 51/100\n",
      "326/326 [==============================] - 76s 233ms/step - loss: 0.1106 - accuracy: 0.9595 - val_loss: 0.3716 - val_accuracy: 0.8846\n",
      "Epoch 52/100\n",
      "326/326 [==============================] - 76s 232ms/step - loss: 0.1152 - accuracy: 0.9526 - val_loss: 0.3023 - val_accuracy: 0.8942\n",
      "Epoch 53/100\n",
      "326/326 [==============================] - 76s 232ms/step - loss: 0.1173 - accuracy: 0.9532 - val_loss: 0.3854 - val_accuracy: 0.8798\n",
      "Epoch 54/100\n",
      "326/326 [==============================] - 76s 232ms/step - loss: 0.1171 - accuracy: 0.9553 - val_loss: 0.2837 - val_accuracy: 0.9006\n",
      "Epoch 55/100\n",
      "326/326 [==============================] - 76s 232ms/step - loss: 0.0996 - accuracy: 0.9594 - val_loss: 0.4816 - val_accuracy: 0.8702\n",
      "Epoch 56/100\n",
      "326/326 [==============================] - 76s 233ms/step - loss: 0.1011 - accuracy: 0.9641 - val_loss: 0.3699 - val_accuracy: 0.8846\n"
     ]
    },
    {
     "name": "stdout",
     "output_type": "stream",
     "text": [
      "Epoch 57/100\n",
      "326/326 [==============================] - 76s 232ms/step - loss: 0.1121 - accuracy: 0.9557 - val_loss: 0.3260 - val_accuracy: 0.8846\n",
      "Epoch 58/100\n",
      "326/326 [==============================] - 76s 233ms/step - loss: 0.1042 - accuracy: 0.9607 - val_loss: 0.2348 - val_accuracy: 0.9054\n",
      "Epoch 59/100\n",
      "326/326 [==============================] - 76s 232ms/step - loss: 0.1088 - accuracy: 0.9572 - val_loss: 0.3734 - val_accuracy: 0.8702\n",
      "Epoch 60/100\n",
      "326/326 [==============================] - 76s 232ms/step - loss: 0.1058 - accuracy: 0.9584 - val_loss: 0.3181 - val_accuracy: 0.8846\n",
      "Epoch 61/100\n",
      "326/326 [==============================] - 76s 233ms/step - loss: 0.1033 - accuracy: 0.9572 - val_loss: 0.3904 - val_accuracy: 0.8750\n",
      "Epoch 62/100\n",
      "326/326 [==============================] - 76s 234ms/step - loss: 0.1103 - accuracy: 0.9571 - val_loss: 0.3608 - val_accuracy: 0.8878\n",
      "Epoch 63/100\n",
      "326/326 [==============================] - 76s 232ms/step - loss: 0.1082 - accuracy: 0.9590 - val_loss: 0.3947 - val_accuracy: 0.8478\n",
      "Epoch 64/100\n",
      "326/326 [==============================] - 76s 233ms/step - loss: 0.1100 - accuracy: 0.9571 - val_loss: 0.2800 - val_accuracy: 0.9006\n",
      "Epoch 65/100\n",
      "326/326 [==============================] - 76s 233ms/step - loss: 0.1024 - accuracy: 0.9613 - val_loss: 0.4734 - val_accuracy: 0.8670\n",
      "Epoch 66/100\n",
      "326/326 [==============================] - 76s 233ms/step - loss: 0.1141 - accuracy: 0.9546 - val_loss: 0.4257 - val_accuracy: 0.8782\n",
      "Epoch 67/100\n",
      "326/326 [==============================] - 76s 232ms/step - loss: 0.1101 - accuracy: 0.9567 - val_loss: 0.3626 - val_accuracy: 0.8974\n",
      "Epoch 68/100\n",
      "326/326 [==============================] - 76s 232ms/step - loss: 0.1072 - accuracy: 0.9580 - val_loss: 0.2583 - val_accuracy: 0.9022\n",
      "Epoch 69/100\n",
      "326/326 [==============================] - 75s 231ms/step - loss: 0.1009 - accuracy: 0.9576 - val_loss: 0.3161 - val_accuracy: 0.9038\n",
      "Epoch 70/100\n",
      "326/326 [==============================] - 76s 232ms/step - loss: 0.0983 - accuracy: 0.9594 - val_loss: 0.3702 - val_accuracy: 0.8702\n",
      "Epoch 71/100\n",
      "326/326 [==============================] - 75s 231ms/step - loss: 0.1018 - accuracy: 0.9613 - val_loss: 0.3567 - val_accuracy: 0.8814\n",
      "Epoch 72/100\n",
      "326/326 [==============================] - 76s 233ms/step - loss: 0.1000 - accuracy: 0.9640 - val_loss: 0.4149 - val_accuracy: 0.8686\n",
      "Epoch 73/100\n",
      "326/326 [==============================] - 76s 232ms/step - loss: 0.1041 - accuracy: 0.9605 - val_loss: 0.3866 - val_accuracy: 0.8782\n",
      "Epoch 74/100\n",
      "326/326 [==============================] - 76s 233ms/step - loss: 0.0978 - accuracy: 0.9592 - val_loss: 0.3345 - val_accuracy: 0.9006\n",
      "Epoch 75/100\n",
      "326/326 [==============================] - 76s 232ms/step - loss: 0.0944 - accuracy: 0.9615 - val_loss: 0.4338 - val_accuracy: 0.8750\n",
      "Epoch 76/100\n",
      "326/326 [==============================] - 76s 232ms/step - loss: 0.0951 - accuracy: 0.9643 - val_loss: 0.3845 - val_accuracy: 0.8862\n",
      "Epoch 77/100\n",
      "326/326 [==============================] - 75s 232ms/step - loss: 0.0984 - accuracy: 0.9630 - val_loss: 0.3155 - val_accuracy: 0.8718\n",
      "Epoch 78/100\n",
      "326/326 [==============================] - 76s 233ms/step - loss: 0.0972 - accuracy: 0.9643 - val_loss: 0.3425 - val_accuracy: 0.8814\n",
      "Epoch 79/100\n",
      "326/326 [==============================] - 76s 232ms/step - loss: 0.1031 - accuracy: 0.9624 - val_loss: 0.3261 - val_accuracy: 0.8750\n",
      "Epoch 80/100\n",
      "326/326 [==============================] - 76s 232ms/step - loss: 0.1017 - accuracy: 0.9605 - val_loss: 0.3972 - val_accuracy: 0.8766\n",
      "Epoch 81/100\n",
      "326/326 [==============================] - 76s 232ms/step - loss: 0.0962 - accuracy: 0.9607 - val_loss: 0.3573 - val_accuracy: 0.8686\n",
      "Epoch 82/100\n",
      "326/326 [==============================] - 76s 232ms/step - loss: 0.0961 - accuracy: 0.9613 - val_loss: 0.3745 - val_accuracy: 0.8862\n",
      "Epoch 83/100\n",
      "326/326 [==============================] - 76s 232ms/step - loss: 0.1013 - accuracy: 0.9588 - val_loss: 0.3210 - val_accuracy: 0.8798\n",
      "Epoch 84/100\n",
      "326/326 [==============================] - 76s 233ms/step - loss: 0.0918 - accuracy: 0.9670 - val_loss: 0.5089 - val_accuracy: 0.8734\n",
      "Epoch 85/100\n",
      "326/326 [==============================] - 76s 232ms/step - loss: 0.0959 - accuracy: 0.9640 - val_loss: 0.4838 - val_accuracy: 0.8830\n",
      "Epoch 86/100\n",
      "326/326 [==============================] - 76s 233ms/step - loss: 0.0938 - accuracy: 0.9651 - val_loss: 0.3957 - val_accuracy: 0.8814\n",
      "Epoch 87/100\n",
      "326/326 [==============================] - 76s 232ms/step - loss: 0.1017 - accuracy: 0.9599 - val_loss: 0.3936 - val_accuracy: 0.8910\n",
      "Epoch 88/100\n",
      "326/326 [==============================] - 76s 232ms/step - loss: 0.0910 - accuracy: 0.9664 - val_loss: 0.3130 - val_accuracy: 0.9022\n",
      "Epoch 89/100\n",
      "326/326 [==============================] - 76s 232ms/step - loss: 0.0968 - accuracy: 0.9597 - val_loss: 0.3313 - val_accuracy: 0.8958\n",
      "Epoch 90/100\n",
      "326/326 [==============================] - 76s 232ms/step - loss: 0.0921 - accuracy: 0.9641 - val_loss: 0.3195 - val_accuracy: 0.8894\n",
      "Epoch 91/100\n",
      "326/326 [==============================] - 75s 232ms/step - loss: 0.0871 - accuracy: 0.9626 - val_loss: 0.5664 - val_accuracy: 0.8798\n",
      "Epoch 92/100\n",
      "326/326 [==============================] - 76s 232ms/step - loss: 0.0927 - accuracy: 0.9666 - val_loss: 0.4619 - val_accuracy: 0.8782\n",
      "Epoch 93/100\n",
      "326/326 [==============================] - 76s 232ms/step - loss: 0.0941 - accuracy: 0.9622 - val_loss: 0.3121 - val_accuracy: 0.8974\n",
      "Epoch 94/100\n",
      "326/326 [==============================] - 76s 232ms/step - loss: 0.0931 - accuracy: 0.9651 - val_loss: 0.5257 - val_accuracy: 0.8702\n",
      "Epoch 95/100\n",
      "326/326 [==============================] - 76s 232ms/step - loss: 0.0935 - accuracy: 0.9634 - val_loss: 0.3576 - val_accuracy: 0.8942\n",
      "Epoch 96/100\n",
      "326/326 [==============================] - 76s 233ms/step - loss: 0.0864 - accuracy: 0.9672 - val_loss: 0.3254 - val_accuracy: 0.8894\n",
      "Epoch 97/100\n",
      "326/326 [==============================] - 76s 233ms/step - loss: 0.0981 - accuracy: 0.9651 - val_loss: 0.3656 - val_accuracy: 0.8894\n",
      "Epoch 98/100\n",
      "326/326 [==============================] - 76s 233ms/step - loss: 0.0967 - accuracy: 0.9647 - val_loss: 0.5206 - val_accuracy: 0.8734\n",
      "Epoch 99/100\n",
      "326/326 [==============================] - 76s 232ms/step - loss: 0.0923 - accuracy: 0.9618 - val_loss: 0.4887 - val_accuracy: 0.8702\n",
      "Epoch 100/100\n",
      "326/326 [==============================] - 76s 233ms/step - loss: 0.0922 - accuracy: 0.9659 - val_loss: 0.5127 - val_accuracy: 0.8766\n"
     ]
    },
    {
     "data": {
      "text/plain": [
       "<tensorflow.python.keras.callbacks.History at 0x27e1ecf9c48>"
      ]
     },
     "execution_count": 13,
     "metadata": {},
     "output_type": "execute_result"
    }
   ],
   "source": [
    "model.fit(x_train, steps_per_epoch=326,epochs=100,validation_data=x_test, validation_steps=39)"
   ]
  },
  {
   "cell_type": "code",
   "execution_count": 14,
   "metadata": {},
   "outputs": [],
   "source": [
    "model.save('Final_1_Final.h5')"
   ]
  },
  {
   "cell_type": "code",
   "execution_count": 15,
   "metadata": {},
   "outputs": [],
   "source": [
    "#Prediction\n",
    "from keras.models import load_model\n",
    "import numpy as np\n",
    "import cv2"
   ]
  },
  {
   "cell_type": "code",
   "execution_count": 16,
   "metadata": {},
   "outputs": [],
   "source": [
    "#Loading the model\n",
    "model = load_model('Final_1_Final.h5')"
   ]
  },
  {
   "cell_type": "code",
   "execution_count": 17,
   "metadata": {},
   "outputs": [],
   "source": [
    "model.compile(optimizer='adam',loss='binary_crossentropy',metrics=['accuracy'])"
   ]
  },
  {
   "cell_type": "code",
   "execution_count": 18,
   "metadata": {},
   "outputs": [],
   "source": [
    "from skimage.transform import resize\n",
    "def detect(frame):\n",
    "    try:\n",
    "        img = resize(frame, (64,64))\n",
    "        img = np.expand_dims(img,axis=0)\n",
    "        if(np.max(img)>1):\n",
    "            img = img/255.0\n",
    "        prediction = model.predict(img)\n",
    "        print(prediction)\n",
    "        prediction_class = model.predict_classes(img)\n",
    "        print(prediction_class)\n",
    "        return prediction, prediction_class\n",
    "    except AttributeError:\n",
    "        print('Error in Prediction')"
   ]
  },
  {
   "cell_type": "code",
   "execution_count": 21,
   "metadata": {},
   "outputs": [
    {
     "name": "stdout",
     "output_type": "stream",
     "text": [
      "[[1.]]\n",
      "[[1]]\n"
     ]
    }
   ],
   "source": [
    "# frame = cv2.imread(r'C:\\Users\\reach\\Jupyter Notebooks\\Intern Project\\Files\\Dataset\\test\\NORMAL\\IM-0001-0001.jpeg')\n",
    "frame = cv2.imread(r'C:\\Users\\reach\\Jupyter Notebooks\\Intern Project\\Files\\Dataset\\test\\PNEUMONIA\\person1_virus_11.jpeg')\n",
    "result = detect(frame)"
   ]
  },
  {
   "cell_type": "code",
   "execution_count": 20,
   "metadata": {},
   "outputs": [
    {
     "name": "stdout",
     "output_type": "stream",
     "text": [
      "0\n"
     ]
    }
   ],
   "source": [
    "print(int(result[1]))"
   ]
  },
  {
   "cell_type": "code",
   "execution_count": null,
   "metadata": {},
   "outputs": [],
   "source": []
  }
 ],
 "metadata": {
  "kernelspec": {
   "display_name": "Python 3",
   "language": "python",
   "name": "python3"
  },
  "language_info": {
   "codemirror_mode": {
    "name": "ipython",
    "version": 3
   },
   "file_extension": ".py",
   "mimetype": "text/x-python",
   "name": "python",
   "nbconvert_exporter": "python",
   "pygments_lexer": "ipython3",
   "version": "3.7.6"
  }
 },
 "nbformat": 4,
 "nbformat_minor": 4
}
